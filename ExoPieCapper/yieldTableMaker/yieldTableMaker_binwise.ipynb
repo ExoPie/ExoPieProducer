{
 "cells": [
  {
   "cell_type": "code",
   "execution_count": 1,
   "metadata": {},
   "outputs": [],
   "source": [
    "import os\n",
    "import pandas as pd \n",
    "import datetime"
   ]
  },
  {
   "cell_type": "code",
   "execution_count": 2,
   "metadata": {},
   "outputs": [],
   "source": [
    "datestr = str(datetime.date.today().strftime(\"%d%m%Y\"))\n",
    "\n",
    "dfEle2016 = pd.read_csv('inYieldDir/v12-00-02/v16_12-00-02_with2017Xsec_Electron.txt',header=None,sep=\" \",names=['reg', 'yield']) \n",
    "dfEle2017 = pd.read_csv('inYieldDir/v12-00-02/v17_12-00-02_Electron.txt',header=None,sep=\" \",names=['reg', 'yield']) \n",
    "dfEle2018 = pd.read_csv('inYieldDir/v12-00-02/v18_12-00-02_Electron.txt',header=None,sep=\" \",names=['reg', 'yield']) \n",
    "\n",
    "dfMu2016 = pd.read_csv('inYieldDir/v12-00-02/v16_12-00-02_with2017Xsec_Muon.txt',header=None,sep=\" \",names=['reg', 'yield']) \n",
    "dfMu2017 = pd.read_csv('inYieldDir/v12-00-02/v17_12-00-02_Muon.txt',header=None,sep=\" \",names=['reg', 'yield']) \n",
    "dfMu2018 = pd.read_csv('inYieldDir/v12-00-02/v18_12-00-02_Muon.txt',header=None,sep=\" \",names=['reg', 'yield']) "
   ]
  },
  {
   "cell_type": "code",
   "execution_count": 3,
   "metadata": {},
   "outputs": [],
   "source": [
    "if not os.path.exists('outYieldDir/texTableDir/'+datestr):\n",
    "    os.makedirs('outYieldDir/texTableDir/'+datestr)"
   ]
  },
  {
   "cell_type": "code",
   "execution_count": 4,
   "metadata": {},
   "outputs": [],
   "source": [
    "yT = open('outYieldDir/texTableDir/texTableFiles/texTable_'+datestr+'_binwise.tex','w')\n",
    "txt_1 = r\"\"\"\\documentclass{article}\n",
    "\\usepackage[utf8]{inputenc}\n",
    "\\usepackage{booktabs}\n",
    "\\usepackage{multirow}\n",
    "\\usepackage{longtable}\n",
    "\\usepackage{graphicx}\n",
    "\\usepackage[width=29.70cm, height=42.00cm, left=1cm, right=1.0cm, top=1.00cm, bottom=2.00cm]{geometry}\n",
    "\\title{testing}\n",
    "\\author{Praveen Chandra Tiwari}\n",
    "\\date{February 2020}\n",
    "\\usepackage{natbib}\n",
    "\\usepackage{graphicx}\n",
    "\\begin{document}\n",
    "\n",
    "\"\"\"\n",
    "txt_2 = r\"\"\"\\begin{table}[]\n",
    "\\centering\n",
    "\\caption{Background yield for REGION}\n",
    "\\label{tab:LABEL}\n",
    "\\resizebox{0.8\\textwidth}{!}{\n",
    "\\begin{tabular}{|l|l|l|l|}\n",
    "\\hline\n",
    "\\multicolumn{1}{|c|}{\\textbf{}} & \\multicolumn{1}{c|}{\\textbf{2016}} & \\multicolumn{1}{c|}{\\textbf{2017}} & \\multicolumn{1}{c|}{\\textbf{2018}} \\\\ \\hline\n",
    "& Bin1 & Bin2 & Bin3 & Bin4 & Bin1 & Bin2 & Bin3 & Bin4 & Bin1 & Bin2 & Bin3 & Bin4 \\\\ \\hline\n",
    "\"\"\"\n",
    "\n",
    "txt_3 = r\"\"\"\n",
    "\\end{tabular}\n",
    "}\n",
    "\\end{table}\n",
    "\n",
    "\"\"\"\n",
    "\n",
    "txt_4 = r\"\"\"\n",
    "\\end{document}\n",
    "\"\"\""
   ]
  },
  {
   "cell_type": "code",
   "execution_count": 5,
   "metadata": {},
   "outputs": [],
   "source": [
    "yT.write(txt_1)\n",
    "for (index16, row16),(index17,row17),(index18,row18) in zip(dfMu2016.iterrows(),dfMu2017.iterrows(),dfMu2018.iterrows()):\n",
    "#     print((index16, row16),(index17,row17),(index18,row18))\n",
    "    if 'region' in row16[\"reg\"] and 'region' in row17[\"reg\"] and 'region' in row18[\"reg\"]:\n",
    "        tex_filename = row16[\"yield\"].split('_')[2]+'_'+row16[\"yield\"].split('_')[3]+'_binwise'\n",
    "        tex_table = open('outYieldDir/texTableDir/'+datestr+'/'+tex_filename+'.tex','w')\n",
    "        if index16 != 0:\n",
    "            yT.write(txt_3)\n",
    "        txt_2_apply= txt_2.replace(\"REGION\",str(row16[\"yield\"]).split('_')[2]+'\\_'+str(row16[\"yield\"]).split('_')[3]).replace(\"LABEL\",str(row16[\"yield\"]).split('_')[2]+str(row16[\"yield\"]).split('_')[3])\n",
    "        yT.write(txt_2_apply)\n",
    "        tex_table.write(txt_2_apply)\n",
    "    else:\n",
    "        yT.write(row16[\"reg\"].replace('_','\\_')+' & '+str(row16[\"yield\"]).replace('±', '$\\pm$')+' & '+str(row17[\"yield\"]).replace('±', '$\\pm$')+' & '+str(row18[\"yield\"]).replace('±', '$\\pm$')+r' \\\\ \\hline'+'\\n')\n",
    "        tex_table.write(row16[\"reg\"].replace('_','\\_')+' & '+str(row16[\"yield\"]).replace('±', '$\\pm$')+' & '+str(row17[\"yield\"]).replace('±', '$\\pm$')+' & '+str(row18[\"yield\"]).replace('±', '$\\pm$')+r' \\\\ \\hline'+'\\n') \n",
    "    if index16 == len(dfMu2016)-1:\n",
    "        yT.write(txt_3)\n",
    "        tex_table.close()\n",
    "        "
   ]
  },
  {
   "cell_type": "code",
   "execution_count": 6,
   "metadata": {},
   "outputs": [],
   "source": [
    "\n",
    "for (index16, row16),(index17,row17),(index18,row18) in zip(dfEle2016.iterrows(),dfEle2017.iterrows(),dfEle2018.iterrows()):\n",
    "    if 'region' in row16[\"reg\"] and 'region' in row17[\"reg\"] and 'region' in row18[\"reg\"]: \n",
    "        tex_filename = row16[\"yield\"].split('_')[2]+'_'+row16[\"yield\"].split('_')[3]+'_binwise'\n",
    "        tex_table = open('outYieldDir/texTableDir/'+datestr+'/'+tex_filename+'.tex','w')\n",
    "        if index16 != 0:\n",
    "            yT.write(txt_3)\n",
    "        txt_2_apply= txt_2.replace(\"REGION\",str(row16[\"yield\"]).split('_')[2]+'\\_'+str(row16[\"yield\"]).split('_')[3]).replace(\"LABEL\",str(row16[\"yield\"]).split('_')[2]+str(row16[\"yield\"]).split('_')[3])\n",
    "        yT.write(txt_2_apply)\n",
    "        tex_table.write(txt_2_apply)\n",
    "    else:   \n",
    "        yT.write(row16[\"reg\"].replace('_','\\_')+' & '+str(row16[\"yield\"]).replace('±', '$\\pm$')+' & '+str(row17[\"yield\"]).replace('±', '$\\pm$')+' & '+str(row18[\"yield\"]).replace('±', '$\\pm$')+r' \\\\ \\hline'+'\\n')\n",
    "        tex_table.write(row16[\"reg\"].replace('_','\\_')+' & '+str(row16[\"yield\"]).replace('±', '$\\pm$')+' & '+str(row17[\"yield\"]).replace('±', '$\\pm$')+' & '+str(row18[\"yield\"]).replace('±', '$\\pm$')+r' \\\\ \\hline'+'\\n')\n",
    "    if index16 == len(dfEle2016)-1:\n",
    "        yT.write(txt_3)\n",
    "        tex_table.write(txt_3)\n",
    "        tex_table.close()\n",
    "yT.write(txt_4)      \n",
    "yT.close()   \n",
    "               "
   ]
  },
  {
   "cell_type": "code",
   "execution_count": 7,
   "metadata": {},
   "outputs": [],
   "source": [
    "for files in os.listdir('outYieldDir/texTableDir/'+datestr):\n",
    "    if files.endswith('e.tex'):\n",
    "        fin = open('outYieldDir/texTableDir/'+datestr+'/'+files,'a')\n",
    "        fin.write(txt_3)\n",
    "        os.system('cat '+files)\n",
    "        fin.close()"
   ]
  },
  {
   "cell_type": "code",
   "execution_count": null,
   "metadata": {},
   "outputs": [],
   "source": []
  },
  {
   "cell_type": "code",
   "execution_count": null,
   "metadata": {},
   "outputs": [],
   "source": []
  }
 ],
 "metadata": {
  "kernelspec": {
   "display_name": "Python 3",
   "language": "python",
   "name": "python3"
  },
  "language_info": {
   "codemirror_mode": {
    "name": "ipython",
    "version": 3
   },
   "file_extension": ".py",
   "mimetype": "text/x-python",
   "name": "python",
   "nbconvert_exporter": "python",
   "pygments_lexer": "ipython3",
   "version": "3.9.2"
  }
 },
 "nbformat": 4,
 "nbformat_minor": 4
}
