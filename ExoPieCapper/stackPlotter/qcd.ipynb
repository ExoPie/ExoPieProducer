{
 "cells": [
  {
   "cell_type": "code",
   "execution_count": 15,
   "source": [
    "import ROOT as ROOT\n",
    "import math as math\n",
    "\n",
    "f_pfx = '/Users/ptiwari/cernbox/Documents/ExoPieCapper/plots_norm/'\n",
    "\n",
    "in_file = {'A': ROOT.TFile(f_pfx+'v16_12-00-04_QCDac/bbDMRoot/h_reg_QCDCR_2b_ctsValue.root'), 'B': ROOT.TFile(\n",
    "    f_pfx+'v16_12-00-04/bbDMRoot/h_reg_QCDCR_2b_ctsValue.root'), 'C': ROOT.TFile(f_pfx+'v16_12-00-04_QCDac/bbDMRoot/h_reg_SR_2b_ctsValue.root')}\n",
    "\n",
    "QCD = {}\n",
    "for key in in_file:\n",
    "  qcd_ = in_file[key].Get(\"data_obs\")\n",
    "  for name in [\"DIBOSON\", \"ZJets\", \"GJets\", \"SMH\", \"STop\", \"Top\", \"WJets\", \"DYJets\"]:\n",
    "    ss = in_file[key].Get(name)\n",
    "    qcd_.Add(ss, -1.0)\n",
    "  # print(key)\n",
    "  # for i in range(1, qcd_.GetNbinsX() + 1):\n",
    "    # print(qcd_.GetBinContent(i))\n",
    "    # print(qcd_.Integral())\n",
    "  QCD.update({key: qcd_})\n",
    "\n",
    "\n",
    "for i in range(1, 5):\n",
    "  # print(QCD['C'].GetBinContent(i),QCD['B'].GetBinContent(i),QCD['A'].GetBinContent(i))\n",
    "  value = (QCD['C'].GetBinContent(i)*QCD['B'].GetBinContent(i))/QCD['A'].GetBinContent(i)\n",
    "  error = math.sqrt((QCD['C'].GetBinError(i)/QCD['C'].GetBinContent(i))**2 + (QCD['B'].GetBinError(i)/QCD['B'].GetBinContent(i))**2 + (QCD['A'].GetBinError(i)/QCD['A'].GetBinContent(i))**2)*value\n",
    "  print(str(value)+' '+u\"\\u00B1\"+' '+str(error))\n"
   ],
   "outputs": [
    {
     "output_type": "stream",
     "name": "stdout",
     "text": [
      "-30.541466097701036 ± -8.085641643018382\n",
      "1.4417686260157963 ± 6.268340535710296\n",
      "44.9027085722098 ± 5.84859835015617\n",
      "50.02392698673635 ± 5.339176339371879\n"
     ]
    }
   ],
   "metadata": {}
  }
 ],
 "metadata": {
  "orig_nbformat": 4,
  "language_info": {
   "name": "python",
   "version": "3.9.7",
   "mimetype": "text/x-python",
   "codemirror_mode": {
    "name": "ipython",
    "version": 3
   },
   "pygments_lexer": "ipython3",
   "nbconvert_exporter": "python",
   "file_extension": ".py"
  },
  "kernelspec": {
   "name": "python3",
   "display_name": "Python 3.9.7 64-bit"
  },
  "interpreter": {
   "hash": "2c397b345a5d863f060315bfa8c60f0b5b5b0e0b15cacc371cd0fbdd1b340a9f"
  }
 },
 "nbformat": 4,
 "nbformat_minor": 2
}